{
 "cells": [
  {
   "cell_type": "code",
   "execution_count": 1,
   "id": "828e6c34",
   "metadata": {},
   "outputs": [
    {
     "name": "stdout",
     "output_type": "stream",
     "text": [
      "Defaulting to user installation because normal site-packages is not writeable\n",
      "Requirement already satisfied: ollama in c:\\users\\aparn\\appdata\\roaming\\python\\python39\\site-packages (0.1.8)\n",
      "Requirement already satisfied: llama2 in c:\\users\\aparn\\appdata\\roaming\\python\\python39\\site-packages (0.0.1.dev0)\n",
      "Requirement already satisfied: httpx<0.28.0,>=0.27.0 in c:\\users\\aparn\\appdata\\roaming\\python\\python39\\site-packages (from ollama) (0.27.0)\n",
      "Requirement already satisfied: torch in c:\\users\\aparn\\appdata\\roaming\\python\\python39\\site-packages (from llama2) (2.1.2)\n",
      "Requirement already satisfied: certifi in c:\\users\\aparn\\appdata\\roaming\\python\\python39\\site-packages (from httpx<0.28.0,>=0.27.0->ollama) (2023.7.22)\n",
      "Requirement already satisfied: idna in c:\\users\\aparn\\appdata\\roaming\\python\\python39\\site-packages (from httpx<0.28.0,>=0.27.0->ollama) (2.10)\n",
      "Requirement already satisfied: httpcore==1.* in c:\\users\\aparn\\appdata\\roaming\\python\\python39\\site-packages (from httpx<0.28.0,>=0.27.0->ollama) (1.0.5)\n",
      "Requirement already satisfied: anyio in c:\\programdata\\anaconda3\\lib\\site-packages (from httpx<0.28.0,>=0.27.0->ollama) (3.5.0)\n",
      "Requirement already satisfied: sniffio in c:\\programdata\\anaconda3\\lib\\site-packages (from httpx<0.28.0,>=0.27.0->ollama) (1.2.0)\n",
      "Requirement already satisfied: h11<0.15,>=0.13 in c:\\users\\aparn\\appdata\\roaming\\python\\python39\\site-packages (from httpcore==1.*->httpx<0.28.0,>=0.27.0->ollama) (0.14.0)\n",
      "Requirement already satisfied: filelock in c:\\users\\aparn\\appdata\\roaming\\python\\python39\\site-packages (from torch->llama2) (3.13.1)\n",
      "Note: you may need to restart the kernel to use updated packages.Requirement already satisfied: jinja2 in c:\\users\\aparn\\appdata\\roaming\\python\\python39\\site-packages (from torch->llama2) (3.1.2)\n",
      "Requirement already satisfied: sympy in c:\\programdata\\anaconda3\\lib\\site-packages (from torch->llama2) (1.10.1)\n",
      "Requirement already satisfied: networkx in c:\\users\\aparn\\appdata\\roaming\\python\\python39\\site-packages (from torch->llama2) (3.2.1)\n",
      "Requirement already satisfied: fsspec in c:\\users\\aparn\\appdata\\roaming\\python\\python39\\site-packages (from torch->llama2) (2024.2.0)\n",
      "\n",
      "Requirement already satisfied: typing-extensions in c:\\users\\aparn\\appdata\\roaming\\python\\python39\\site-packages (from torch->llama2) (4.8.0)\n",
      "Requirement already satisfied: MarkupSafe>=2.0 in c:\\programdata\\anaconda3\\lib\\site-packages (from jinja2->torch->llama2) (2.0.1)\n",
      "Requirement already satisfied: mpmath>=0.19 in c:\\programdata\\anaconda3\\lib\\site-packages (from sympy->torch->llama2) (1.2.1)\n"
     ]
    }
   ],
   "source": [
    "pip install ollama llama2"
   ]
  },
  {
   "cell_type": "code",
   "execution_count": 1,
   "id": "eb09b7bb",
   "metadata": {},
   "outputs": [],
   "source": [
    "documents = [ \"Take a leisurely walk around the temple premises and soak in the spiritual atmosphere.\",\n",
    " \"Visit a local temple and learn about its rich history and cultural significance.\",\n",
    " \"Attend a devotional music concert at the temple and feel the divine rhythm.\",\n",
    " \"Go for a temple pilgrimage and admire the sacred architecture and serene surroundings.\",\n",
    " \"Have a spiritual picnic with friends at the temple and share moments of reverence.\",\n",
    " \"Explore the divine cuisine by participating in temple feasts or dining at a nearby vegetarian restaurant.\",\n",
    " \"Take a yoga class at the temple and rejuvenate your body, mind, and soul.\",\n",
    " \"Join a temple community sports league and enjoy some friendly games and camaraderie.\",\n",
    " \"Attend a spiritual workshop or lecture at the temple on topics related to self-improvement and enlightenment.\",\n",
    " \"Visit a temple fair or festival and enjoy the divine festivities and rides at the makeshift amusement park.\"\n",
    "                    ]"
   ]
  },
  {
   "cell_type": "code",
   "execution_count": 2,
   "id": "fb1c6bfc",
   "metadata": {},
   "outputs": [],
   "source": [
    "def jaccard_similarity(query, document):\n",
    "    query = query.lower().split(\" \")\n",
    "    document = document.lower().split(\" \")\n",
    "    intersection = set(query).intersection(set(document))\n",
    "    union = set(query).union(set(document))\n",
    "    return len(intersection)/len(union)"
   ]
  },
  {
   "cell_type": "code",
   "execution_count": 3,
   "id": "ebb1c966",
   "metadata": {},
   "outputs": [],
   "source": [
    "def return_response(query, corpus):\n",
    "    similarities = []\n",
    "    for doc in corpus:\n",
    "        similarity = jaccard_similarity(user_input, doc)\n",
    "        similarities.append(similarity)\n",
    "    return documents[similarities.index(max(similarities))]"
   ]
  },
  {
   "cell_type": "code",
   "execution_count": 4,
   "id": "380033d5",
   "metadata": {},
   "outputs": [],
   "source": [
    "user_prompt = \"What is a leisure activity that you like?\""
   ]
  },
  {
   "cell_type": "code",
   "execution_count": 5,
   "id": "f7e0eedf",
   "metadata": {},
   "outputs": [],
   "source": [
    "user_input = \"I like to go to temple\""
   ]
  },
  {
   "cell_type": "code",
   "execution_count": 6,
   "id": "ab9edd46",
   "metadata": {},
   "outputs": [
    {
     "data": {
      "text/plain": [
       "'Go for a temple pilgrimage and admire the sacred architecture and serene surroundings.'"
      ]
     },
     "execution_count": 6,
     "metadata": {},
     "output_type": "execute_result"
    }
   ],
   "source": [
    "return_response(user_input, documents)"
   ]
  },
  {
   "cell_type": "code",
   "execution_count": 7,
   "id": "39422d6e",
   "metadata": {},
   "outputs": [],
   "source": [
    "user_input = \"I don't like to got to temple\""
   ]
  },
  {
   "cell_type": "code",
   "execution_count": 8,
   "id": "e9183c23",
   "metadata": {},
   "outputs": [
    {
     "data": {
      "text/plain": [
       "'Attend a spiritual workshop or lecture at the temple on topics related to self-improvement and enlightenment.'"
      ]
     },
     "execution_count": 8,
     "metadata": {},
     "output_type": "execute_result"
    }
   ],
   "source": [
    "return_response(user_input, documents)"
   ]
  },
  {
   "cell_type": "code",
   "execution_count": 11,
   "id": "fe7d7325",
   "metadata": {},
   "outputs": [],
   "source": [
    "import requests\n",
    "import json"
   ]
  },
  {
   "cell_type": "code",
   "execution_count": 12,
   "id": "b7dcc202",
   "metadata": {},
   "outputs": [],
   "source": [
    "user_input = \"I like to go to temple\"\n",
    "relevant_document = return_response(user_input, documents)\n",
    "full_response = []\n",
    "\n",
    "prompt = \"\"\"\n",
    "You are a bot that makes recommendations for temples. You answer in very short sentences and do not include extra information.\n",
    "This is the recommended activity: {relevant_document}\n",
    "The user input is: {user_input}\n",
    "Compile a recommendation to the user based on the recommended activity and the user input.\n",
    "\"\"\""
   ]
  },
  {
   "cell_type": "code",
   "execution_count": 13,
   "id": "4e64cc34",
   "metadata": {},
   "outputs": [
    {
     "name": "stdout",
     "output_type": "stream",
     "text": [
      " Great! Based on your input, I recommend visiting the Borobudur Temple in Indonesia. It's a magnificent structure that showcases intricate carvings and sculptures, and offers a serene environment for meditation and reflection.\n"
     ]
    }
   ],
   "source": [
    "url = 'http://localhost:11434/api/generate' \n",
    "data = {\n",
    "    \"model\": \"llama2\",\n",
    "    \"prompt\": prompt.format(user_input=user_input, relevant_document=relevant_document)\n",
    "}\n",
    "headers = {'Content-Type': 'application/json'}\n",
    "response = requests.post(url, data=json.dumps(data), headers=headers, stream=True)\n",
    "try:\n",
    "    full_response = []  \n",
    "    for line in response.iter_lines():\n",
    "        if line:\n",
    "            decoded_line = json.loads(line.decode('utf-8'))\n",
    "            full_response.append(decoded_line['response'])  \n",
    "finally:\n",
    "    response.close()\n",
    "\n",
    "joined_response = ''.join(str(item) for item in full_response)\n",
    "\n",
    "print(joined_response)\n"
   ]
  },
  {
   "cell_type": "code",
   "execution_count": 27,
   "id": "9432d2a6",
   "metadata": {},
   "outputs": [],
   "source": [
    "user_input = \"I don't like to go to temple\"\n",
    "relevant_document = return_response(user_input, documents)\n",
    "full_response = []\n",
    "\n",
    "prompt = \"\"\"\n",
    "You are a bot that makes recommendations for temples. You answer in very short sentences and do not include extra information.\n",
    "This is the recommended activity: {relevant_document}\n",
    "The user input is: {user_input}\n",
    "Compile a recommendation to the user based on the recommended activity and the user input.\n",
    "\"\"\""
   ]
  },
  {
   "cell_type": "code",
   "execution_count": 28,
   "id": "88124366",
   "metadata": {},
   "outputs": [
    {
     "name": "stdout",
     "output_type": "stream",
     "text": [
      "Sorry to hear that you don't enjoy visiting temples. Here's a recommendation for an alternative activity that might be more appealing to you:\n",
      "\n",
      "Consider exploring local art galleries or museums instead. Many cities have vibrant art scenes with a wide range of styles and mediums on display. You may find it more engaging than a temple pilgrimage.\n"
     ]
    }
   ],
   "source": [
    "url = 'http://localhost:11434/api/generate' \n",
    "data = {\n",
    "    \"model\": \"llama2\",\n",
    "    \"prompt\": prompt.format(user_input=user_input, relevant_document=relevant_document)\n",
    "}\n",
    "headers = {'Content-Type': 'application/json'}\n",
    "response = requests.post(url, data=json.dumps(data), headers=headers, stream=True)\n",
    "try:\n",
    "    full_response = []  \n",
    "    for line in response.iter_lines():\n",
    "        if line:\n",
    "            decoded_line = json.loads(line.decode('utf-8'))\n",
    "            full_response.append(decoded_line['response'])  \n",
    "finally:\n",
    "    response.close()\n",
    "\n",
    "joined_response = ''.join(str(item) for item in full_response)\n",
    "\n",
    "print(joined_response)"
   ]
  }
 ],
 "metadata": {
  "kernelspec": {
   "display_name": "Python 3 (ipykernel)",
   "language": "python",
   "name": "python3"
  },
  "language_info": {
   "codemirror_mode": {
    "name": "ipython",
    "version": 3
   },
   "file_extension": ".py",
   "mimetype": "text/x-python",
   "name": "python",
   "nbconvert_exporter": "python",
   "pygments_lexer": "ipython3",
   "version": "3.9.12"
  }
 },
 "nbformat": 4,
 "nbformat_minor": 5
}
